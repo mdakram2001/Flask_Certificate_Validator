{
 "cells": [
  {
   "cell_type": "code",
   "execution_count": null,
   "id": "9c02d9a2-6394-498d-9ea4-8be5b30edb70",
   "metadata": {},
   "outputs": [],
   "source": [
    "\"\"\"Q1. Explain GET and POST methods.\n",
    "Ans:\n",
    "\n",
    "\n",
    "GET and POST are two of the most common HTTP methods used to send data to a server. GET is used to request data from a server,\n",
    "while POST is used to send data to a server.\n",
    "\n",
    "GET\n",
    "The GET method is used to request data from a server. The data is appended to the URL of the request.\n",
    "POST\n",
    "The POST method is used to send data to a server. The data is sent in the body of the request, and is not visible in the URL.\"\"\""
   ]
  },
  {
   "cell_type": "code",
   "execution_count": null,
   "id": "135f2c7a-d569-4c2f-bbc6-f759464474f3",
   "metadata": {},
   "outputs": [],
   "source": [
    "\"\"\"Q2. Why is request used in Flask?\n",
    "Ans:\n",
    "\n",
    "The request object is used in Flask to access the data that is sent by the client to the server. This data can be in the \n",
    "form of query strings, form data, or JSON objects. The request object provides a number of methods for accessing this data.\n",
    "This data can be used to process requests, generate responses, and store data in the database."
   ]
  },
  {
   "cell_type": "code",
   "execution_count": null,
   "id": "d0e6140f-e220-40e0-a50f-d7fd4b7f62e6",
   "metadata": {},
   "outputs": [],
   "source": [
    "\"\"\"Q3. Why is redirect() used in Flask?\n",
    "Ans:\n",
    "\n",
    "Flask redirect is defined as a function or utility in Flask which allows developers to redirect users to a specified URL.\n",
    "The redirect() function takes two arguments: the URL that you want to redirect the user to, and the HTTP status code that \n",
    "you want to use.\"\"\""
   ]
  },
  {
   "cell_type": "code",
   "execution_count": null,
   "id": "fd39af0b-661a-4a57-926e-0e9ba209e1e4",
   "metadata": {},
   "outputs": [],
   "source": [
    "\"\"\"Q4. What are templates in Flask? Why is the render_template() function used?\n",
    "Ans:\n",
    "\n",
    "In Flask, templates are HTML files that are used to generate the output of a web page. They are typically stored in a directory\n",
    "called templates in the root of your Flask application.\n",
    "The render_template() function is used to render a template file and return the rendered HTML as a response. It takes \n",
    "two arguments: the name of the template file and a dictionary of variables that will be available to the template.\"\"\""
   ]
  },
  {
   "cell_type": "code",
   "execution_count": null,
   "id": "e9884220-e049-456d-ab28-11d1cbd53775",
   "metadata": {},
   "outputs": [],
   "source": [
    "\"\"\"Q5. Create a simple API. Use Postman to test it. Attach the screenshot of the output in the Jupyter Notebook.\n",
    "Ans:\n",
    "\n",
    "API Link: https://github.com/pappon2001/Flask_Certificate_Validator\n",
    "ScreenShot Link: https://snipboard.io/YmPsR3.jpg"
   ]
  }
 ],
 "metadata": {
  "kernelspec": {
   "display_name": "Python 3 (ipykernel)",
   "language": "python",
   "name": "python3"
  },
  "language_info": {
   "codemirror_mode": {
    "name": "ipython",
    "version": 3
   },
   "file_extension": ".py",
   "mimetype": "text/x-python",
   "name": "python",
   "nbconvert_exporter": "python",
   "pygments_lexer": "ipython3",
   "version": "3.10.8"
  }
 },
 "nbformat": 4,
 "nbformat_minor": 5
}
